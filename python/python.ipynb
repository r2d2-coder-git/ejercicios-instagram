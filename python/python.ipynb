{
 "cells": [
  {
   "cell_type": "markdown",
   "metadata": {},
   "source": [
    "**ENMASCARA LOS NÚMEROS** \n",
    "\n",
    "**DE CUENTAS BANCARIAS**\n",
    "\n",
    "**MENOS LOS ÚLTIMOS 4 NÚMEROS**"
   ]
  },
  {
   "cell_type": "code",
   "execution_count": null,
   "metadata": {},
   "outputs": [],
   "source": [
    "cuentas = [\"ES91 2100 0418 4502 0005 1332\", \n",
    "           \"ES76 3000 6000 0112 3456 7890 1899\", \n",
    "           \"ES89 3704 0044 0532 0130 0002\"]\n",
    "\n",
    "def enmascarar(cuenta: str) -> str:\n",
    "    return f\"{cuenta[:2]}{'*' * (len(cuenta)-6)}{cuenta[-4:]}\"\n",
    "\n",
    "ocultas = [enmascarar(cuenta) for cuenta in cuentas]\n",
    "\n",
    "print(ocultas)"
   ]
  },
  {
   "cell_type": "markdown",
   "metadata": {},
   "source": [
    "**CONSIGUE UN NÚMERO RANDOM** \n",
    "\n",
    "**E IMPRIME SU TABLA**\n",
    "\n",
    "**DE MULTIPLICAR**"
   ]
  },
  {
   "cell_type": "code",
   "execution_count": 6,
   "metadata": {},
   "outputs": [
    {
     "name": "stdout",
     "output_type": "stream",
     "text": [
      "El numero random es: 5\n",
      "5 x 1 = 5\n",
      "5 x 2 = 10\n",
      "5 x 3 = 15\n",
      "5 x 4 = 20\n",
      "5 x 5 = 25\n",
      "5 x 6 = 30\n",
      "5 x 7 = 35\n",
      "5 x 8 = 40\n",
      "5 x 9 = 45\n",
      "5 x 10 = 50\n"
     ]
    }
   ],
   "source": [
    "import random\n",
    "\n",
    "numero_random = random.randint(0,10)\n",
    "\n",
    "print(f\"El numero random es: {numero_random}\")\n",
    "\n",
    "for i in range(1,11):\n",
    "    print(f\"{numero_random} x {i} = {numero_random * i}\")"
   ]
  }
 ],
 "metadata": {
  "kernelspec": {
   "display_name": "Python 3",
   "language": "python",
   "name": "python3"
  },
  "language_info": {
   "codemirror_mode": {
    "name": "ipython",
    "version": 3
   },
   "file_extension": ".py",
   "mimetype": "text/x-python",
   "name": "python",
   "nbconvert_exporter": "python",
   "pygments_lexer": "ipython3",
   "version": "3.9.5"
  }
 },
 "nbformat": 4,
 "nbformat_minor": 2
}
