{
 "cells": [
  {
   "cell_type": "markdown",
   "metadata": {},
   "source": [
    "**ENMASCARA LOS NÚMEROS** \n",
    "\n",
    "**DE CUENTAS BANCARIAS**\n",
    "\n",
    "**MENOS LOS 4 ÚLTIMOS DÍGITOS**"
   ]
  },
  {
   "cell_type": "code",
   "execution_count": null,
   "metadata": {},
   "outputs": [],
   "source": [
    "cuentas = [\"ES91 2100 0418 4502 0005 1332\", \n",
    "           \"ES76 3000 6000 0112 3456 7890 1899\", \n",
    "           \"ES89 3704 0044 0532 0130 0002\"]\n",
    "\n",
    "def enmascarar(cuenta: str) -> str:\n",
    "    return f'{cuenta[:2]}{\"*\"*(len(cuenta)-6)}{cuenta[-4:]}'\n",
    "\n",
    "ocultas = [enmascarar(cuenta) for cuenta in cuentas]\n",
    "\n",
    "print(ocultas)\n"
   ]
  },
  {
   "cell_type": "markdown",
   "metadata": {},
   "source": [
    "**CONSIGUE UN NÚMERO RANDOM** \n",
    "\n",
    "**E IMPRIME SU TABLA**\n",
    "\n",
    "**DE MULTIPLICAR**"
   ]
  },
  {
   "cell_type": "code",
   "execution_count": null,
   "metadata": {},
   "outputs": [
    {
     "name": "stdout",
     "output_type": "stream",
     "text": [
      "El número random es: 0\n",
      "0 x 1 = 0\n",
      "0 x 2 = 0\n",
      "0 x 3 = 0\n",
      "0 x 4 = 0\n",
      "0 x 5 = 0\n",
      "0 x 6 = 0\n",
      "0 x 7 = 0\n",
      "0 x 8 = 0\n",
      "0 x 9 = 0\n",
      "0 x 10 = 0\n"
     ]
    }
   ],
   "source": [
    "import random \n",
    "num_random = random.randint(0, 10)\n",
    "\n",
    "print(f\"El número random es: {num_random}\")\n",
    "for i in range(1,11):\n",
    "    print(f\"{num_random} x {i} = {num_random*i}\")"
   ]
  }
 ],
 "metadata": {
  "kernelspec": {
   "display_name": "Python 3",
   "language": "python",
   "name": "python3"
  },
  "language_info": {
   "codemirror_mode": {
    "name": "ipython",
    "version": 3
   },
   "file_extension": ".py",
   "mimetype": "text/x-python",
   "name": "python",
   "nbconvert_exporter": "python",
   "pygments_lexer": "ipython3",
   "version": "3.9.5"
  }
 },
 "nbformat": 4,
 "nbformat_minor": 2
}
