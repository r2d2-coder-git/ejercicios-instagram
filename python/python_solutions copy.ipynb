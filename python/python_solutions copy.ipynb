{
 "cells": [
  {
   "cell_type": "markdown",
   "metadata": {},
   "source": [
    "**ENMASCARA LOS NÚMEROS** \n",
    "\n",
    "**DE CUENTAS BANCARIAS**\n",
    "\n",
    "**MENOS LOS 4 ÚLTIMOS DÍGITOS**"
   ]
  },
  {
   "cell_type": "code",
   "execution_count": null,
   "metadata": {},
   "outputs": [],
   "source": [
    "cuentas = [\"ES91 2100 0418 4502 0005 1332\", \n",
    "           \"ES76 3000 6000 0112 3456 7890 1899\", \n",
    "           \"ES89 3704 0044 0532 0130 0002\"]\n",
    "\n",
    "def enmascarar(cuenta: str) -> str:\n",
    "    return f'{cuenta[:2]}{\"*\"*(len(cuenta)-6)}{cuenta[-4:]}'\n",
    "\n",
    "ocultas = [enmascarar(cuenta) for cuenta in cuentas]\n",
    "\n",
    "print(ocultas)\n"
   ]
  },
  {
   "cell_type": "markdown",
   "metadata": {},
   "source": [
    "**CONSIGUE UN NÚMERO RANDOM** \n",
    "\n",
    "**E IMPRIME SU TABLA**\n",
    "\n",
    "**DE MULTIPLICAR**"
   ]
  },
  {
   "cell_type": "code",
   "execution_count": null,
   "metadata": {},
   "outputs": [],
   "source": [
    "import random \n",
    "num_random = random.randint(0, 10)\n",
    "\n",
    "print(f\"El número random es: {num_random}\")\n",
    "for i in range(1,11):\n",
    "    print(f\"{num_random} x {i} = {num_random*i}\")"
   ]
  },
  {
   "cell_type": "markdown",
   "metadata": {},
   "source": [
    "**CONSIGUE EL NÚMERO** \n",
    "\n",
    "**DE VOCALES**\n",
    "\n",
    "**PARA CADA PALABRA**"
   ]
  },
  {
   "cell_type": "code",
   "execution_count": 5,
   "metadata": {},
   "outputs": [
    {
     "name": "stdout",
     "output_type": "stream",
     "text": [
      "[4, 3, 1, 5]\n"
     ]
    }
   ],
   "source": [
    "lista_palabras = [\"entrevista\", \"tecnica\", \"python\", \"murcielago\"]\n",
    "\n",
    "def contar_vocales(palabras : list) -> list:\n",
    "    vocales = 'aeiouAEIOU'\n",
    "    return [sum(1 for letra in palabra if letra in vocales) \n",
    "            for palabra in palabras]\n",
    "\n",
    "print(contar_vocales(lista_palabras))"
   ]
  },
  {
   "cell_type": "markdown",
   "metadata": {},
   "source": [
    "**CALCULA EL NÚMERO** \n",
    "\n",
    "**DE DÍAS**\n",
    "\n",
    "**HASTA TU CUMPLEAÑOS**"
   ]
  },
  {
   "cell_type": "code",
   "execution_count": null,
   "metadata": {},
   "outputs": [],
   "source": [
    "from datetime import datetime\n",
    "\n",
    "mes = 3\n",
    "dia = 30\n",
    "\n",
    "hoy = datetime.today()\n",
    "cumple = datetime(hoy.year, mes, dia)\n",
    "\n",
    "if cumple < hoy:\n",
    "    cumple = cumple.replace(year=hoy.year + 1)\n",
    "\n",
    "dias_restantes = (cumple - hoy).days\n",
    "\n",
    "print(f\"Faltan {dias_restantes} días para tu cumple 🎉\")\n"
   ]
  },
  {
   "cell_type": "markdown",
   "metadata": {
    "vscode": {
     "languageId": "raw"
    }
   },
   "source": [
    "**¡CUENTA LOS FINES**\n",
    "\n",
    "**DE SEMANA HASTA**\n",
    "\n",
    "**TUS VACACIONES! 🏖️**\n"
   ]
  },
  {
   "cell_type": "code",
   "execution_count": null,
   "metadata": {},
   "outputs": [],
   "source": [
    "from datetime import datetime, timedelta\n",
    "\n",
    "def contar_fines_semana(mes_vacaciones, dia_vacaciones):\n",
    "    hoy = datetime.today()\n",
    "    vacaciones = datetime(hoy.year, mes_vacaciones, dia_vacaciones)\n",
    "    fines_semana = sum(1 for dia in range((vacaciones - hoy).days) \n",
    "                      if (hoy + timedelta(dia)).weekday() >= 5)\n",
    "    return f\"🎉 Te quedan {fines_semana} fines de semana hasta tus vacaciones!\\n🏖️ ¡{fines_semana * 2} días de descanso antes del gran día!\"\n",
    "\n",
    "# Ejemplo para vacaciones el 1 de agosto\n",
    "print(contar_fines_semana(8, 1))\n"
   ]
  },
  {
   "cell_type": "markdown",
   "metadata": {
    "vscode": {
     "languageId": "raw"
    }
   },
   "source": [
    "**¡DIVIDE LA CUENTA**\n",
    "\n",
    "**DE LA CENA ENTRE**\n",
    "\n",
    "**TUS AMIGOS! 🍕💰**\n"
   ]
  },
  {
   "cell_type": "code",
   "execution_count": null,
   "metadata": {},
   "outputs": [],
   "source": [
    "def dividir_cuenta(total, personas, propina=10):\n",
    "    propina_total = total * (propina/100)\n",
    "    total_con_propina = total + propina_total\n",
    "    por_persona = total_con_propina / personas\n",
    "    return f\"💰 Total con {propina}% de propina: {total_con_propina:.2f}€\\n👥 Cada persona paga: {por_persona:.2f}€\\n🎯 Redondeando serían {round(por_persona)}€ cada uno\"\n",
    "\n",
    "# Ejemplos de diferentes cenas\n",
    "print(\"🍕 Cena de pizzas:\")\n",
    "print(dividir_cuenta(45, 3))  # Cena de 45€ entre 3 personas\n",
    "print(\"\\n🍣 Cena de sushi:\")\n",
    "print(dividir_cuenta(120, 4, 15))  # Cena de 120€ entre 4 personas con 15% de propina\n"
   ]
  },
  {
   "cell_type": "markdown",
   "metadata": {
    "vscode": {
     "languageId": "raw"
    }
   },
   "source": [
    "**¿CUÁNTAS SERIES**\n",
    "\n",
    "**PUEDES VER CON TU**\n",
    "\n",
    "**TIEMPO LIBRE? 🍿📺**\n"
   ]
  },
  {
   "cell_type": "code",
   "execution_count": null,
   "metadata": {},
   "outputs": [],
   "source": [
    "def calcular_tiempo_series(horas_libres_semana, duracion_episodio=45):\n",
    "    minutos_semanales = horas_libres_semana * 60\n",
    "    episodios_semana = minutos_semanales // duracion_episodio\n",
    "    episodios_mes = episodios_semana * 4\n",
    "    return f\"📺 Puedes ver {episodios_semana} episodios a la semana\\n🎬 ¡{episodios_mes} episodios al mes!\\n🍿 {episodios_mes//12} temporadas completas al mes\"\n",
    "\n",
    "# Ejemplos con diferentes tiempos libres\n",
    "print(\"🌟 Con 2 horas libres al día:\")\n",
    "print(calcular_tiempo_series(14))  # 2 horas x 7 días = 14 horas/semana\n",
    "print(\"\\n✨ Con 1 hora libre al día:\")\n",
    "print(calcular_tiempo_series(7, 40))  # 1 hora x 7 días, episodios de 40 min\n"
   ]
  },
  {
   "cell_type": "markdown",
   "metadata": {
    "vscode": {
     "languageId": "raw"
    }
   },
   "source": [
    "**PROTEGE TUS NÚMEROS**\n",
    "\n",
    "**DE TELÉFONO MOSTRANDO**\n",
    "\n",
    "**SOLO LOS 3 ÚLTIMOS 📱**\n"
   ]
  },
  {
   "cell_type": "code",
   "execution_count": null,
   "metadata": {},
   "outputs": [],
   "source": [
    "telefonos = [\"666777888\", \"+34611222333\", \"999888777\"]\n",
    "\n",
    "def ocultar_telefono(numero):\n",
    "    limpio = numero.replace(\"+34\", \"\")  # Quitamos el prefijo si existe\n",
    "    return f\"{'*' * (len(limpio)-3)}{limpio[-3:]}\"\n",
    "\n",
    "numeros_protegidos = [ocultar_telefono(tel) for tel in telefonos]\n",
    "print(\"📱 Números protegidos:\")\n",
    "for original, protegido in zip(telefonos, numeros_protegidos):\n",
    "    print(f\"{original} ➡️ {protegido}\")\n"
   ]
  }
 ],
 "metadata": {
  "kernelspec": {
   "display_name": "Python 3",
   "language": "python",
   "name": "python3"
  },
  "language_info": {
   "codemirror_mode": {
    "name": "ipython",
    "version": 3
   },
   "file_extension": ".py",
   "mimetype": "text/x-python",
   "name": "python",
   "nbconvert_exporter": "python",
   "pygments_lexer": "ipython3",
   "version": "3.9.5"
  }
 },
 "nbformat": 4,
 "nbformat_minor": 2
}
