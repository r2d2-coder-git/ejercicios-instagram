{
 "cells": [
  {
   "cell_type": "markdown",
   "metadata": {},
   "source": [
    "#### **CALCULA EL PORCENTAJE**\n",
    "#### **DE PERSONAS QUE**\n",
    "#### **CONSIGUIERON PAREJA**\n",
    "#### **EN TINDER**"
   ]
  },
  {
   "cell_type": "code",
   "execution_count": null,
   "metadata": {},
   "outputs": [],
   "source": [
    "import pandas as pd\n",
    "\n",
    "df = pd.read_csv(\"encuestas_tinder.csv\")"
   ]
  },
  {
   "cell_type": "code",
   "execution_count": 8,
   "metadata": {},
   "outputs": [
    {
     "name": "stdout",
     "output_type": "stream",
     "text": [
      "El porcentaje de parejas es 9.71 %\n"
     ]
    }
   ],
   "source": [
    "condicion_pareja = (df['Answer'] == 'Yes') \\\n",
    "                    & (df['It became a Relationship'] == 'Yes')\n",
    "\n",
    "parejas_tinder = df.loc[condicion_pareja]\n",
    "\n",
    "porcentaje = (len(parejas_tinder) / len(df) * 100).__round__(2)\n",
    "\n",
    "print(f\"El porcentaje de parejas es {porcentaje} %\")"
   ]
  },
  {
   "cell_type": "markdown",
   "metadata": {},
   "source": [
    "#### **CALCULA EL PORCENTAJE**\n",
    "#### **DE PERSONAS QUE**\n",
    "#### **CONSIGUIERON PAREJA**\n",
    "#### **EN TINDER**"
   ]
  }
 ],
 "metadata": {
  "kernelspec": {
   "display_name": "Python 3",
   "language": "python",
   "name": "python3"
  },
  "language_info": {
   "codemirror_mode": {
    "name": "ipython",
    "version": 3
   },
   "file_extension": ".py",
   "mimetype": "text/x-python",
   "name": "python",
   "nbconvert_exporter": "python",
   "pygments_lexer": "ipython3",
   "version": "3.9.5"
  }
 },
 "nbformat": 4,
 "nbformat_minor": 2
}
