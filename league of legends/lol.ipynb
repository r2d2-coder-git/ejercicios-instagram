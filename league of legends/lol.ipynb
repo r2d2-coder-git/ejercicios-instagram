{
 "cells": [
  {
   "cell_type": "markdown",
   "metadata": {},
   "source": [
    "### **CUÁL ES EL PERSONAJE TANQUE** \n",
    "### \n",
    "### **DEL LEAGUE OF LEGENDS**\n",
    "### \n",
    "### **MÁS DÍFICIL DE JUGAR**"
   ]
  },
  {
   "cell_type": "code",
   "execution_count": null,
   "metadata": {},
   "outputs": [],
   "source": [
    "import pandas as pd\n",
    "\n",
    "df = pd.read_csv('lol_data.csv', index_col = 0)"
   ]
  },
  {
   "cell_type": "code",
   "execution_count": 4,
   "metadata": {},
   "outputs": [
    {
     "data": {
      "text/html": [
       "<div>\n",
       "<style scoped>\n",
       "    .dataframe tbody tr th:only-of-type {\n",
       "        vertical-align: middle;\n",
       "    }\n",
       "\n",
       "    .dataframe tbody tr th {\n",
       "        vertical-align: top;\n",
       "    }\n",
       "\n",
       "    .dataframe thead th {\n",
       "        text-align: right;\n",
       "    }\n",
       "</style>\n",
       "<table border=\"1\" class=\"dataframe\">\n",
       "  <thead>\n",
       "    <tr style=\"text-align: right;\">\n",
       "      <th></th>\n",
       "      <th>id</th>\n",
       "      <th>apiname</th>\n",
       "      <th>title</th>\n",
       "      <th>difficulty</th>\n",
       "      <th>herotype</th>\n",
       "      <th>alttype</th>\n",
       "      <th>resource</th>\n",
       "      <th>stats</th>\n",
       "      <th>rangetype</th>\n",
       "      <th>date</th>\n",
       "      <th>...</th>\n",
       "      <th>be</th>\n",
       "      <th>rp</th>\n",
       "      <th>skill_i</th>\n",
       "      <th>skill_q</th>\n",
       "      <th>skill_w</th>\n",
       "      <th>skill_e</th>\n",
       "      <th>skill_r</th>\n",
       "      <th>skills</th>\n",
       "      <th>fullname</th>\n",
       "      <th>nickname</th>\n",
       "    </tr>\n",
       "  </thead>\n",
       "  <tbody>\n",
       "    <tr>\n",
       "      <th>K'Sante</th>\n",
       "      <td>897.0</td>\n",
       "      <td>KSante</td>\n",
       "      <td>the Pride of Nazumah</td>\n",
       "      <td>3</td>\n",
       "      <td>Tank</td>\n",
       "      <td>Fighter</td>\n",
       "      <td>Mana</td>\n",
       "      <td>{'hp_base': 625, 'hp_lvl': 120, 'mp_base': 320...</td>\n",
       "      <td>Melee</td>\n",
       "      <td>2022-11-02</td>\n",
       "      <td>...</td>\n",
       "      <td>4800</td>\n",
       "      <td>880</td>\n",
       "      <td>{1: 'Dauntless Instinct'}</td>\n",
       "      <td>{1: 'Ntofo Strikes'}</td>\n",
       "      <td>{1: 'Path Maker'}</td>\n",
       "      <td>{1: 'Footwork'}</td>\n",
       "      <td>{1: 'All Out'}</td>\n",
       "      <td>{1: 'Dauntless Instinct', 2: 'Ntofo Strikes', ...</td>\n",
       "      <td>NaN</td>\n",
       "      <td>NaN</td>\n",
       "    </tr>\n",
       "  </tbody>\n",
       "</table>\n",
       "<p>1 rows × 32 columns</p>\n",
       "</div>"
      ],
      "text/plain": [
       "            id apiname                 title  difficulty herotype  alttype  \\\n",
       "K'Sante  897.0  KSante  the Pride of Nazumah           3     Tank  Fighter   \n",
       "\n",
       "        resource                                              stats rangetype  \\\n",
       "K'Sante     Mana  {'hp_base': 625, 'hp_lvl': 120, 'mp_base': 320...     Melee   \n",
       "\n",
       "               date  ...    be   rp                    skill_i  \\\n",
       "K'Sante  2022-11-02  ...  4800  880  {1: 'Dauntless Instinct'}   \n",
       "\n",
       "                      skill_q            skill_w          skill_e  \\\n",
       "K'Sante  {1: 'Ntofo Strikes'}  {1: 'Path Maker'}  {1: 'Footwork'}   \n",
       "\n",
       "                skill_r                                             skills  \\\n",
       "K'Sante  {1: 'All Out'}  {1: 'Dauntless Instinct', 2: 'Ntofo Strikes', ...   \n",
       "\n",
       "         fullname  nickname  \n",
       "K'Sante       NaN       NaN  \n",
       "\n",
       "[1 rows x 32 columns]"
      ]
     },
     "execution_count": 4,
     "metadata": {},
     "output_type": "execute_result"
    }
   ],
   "source": [
    "df_tanques = df.loc[df['herotype'] == 'Tank']\n",
    "\n",
    "df_ordenado = df_tanques.sort_values(by='difficulty',\n",
    "                                     ascending=False)\n",
    "\n",
    "df_ordenado.head(1)"
   ]
  }
 ],
 "metadata": {
  "kernelspec": {
   "display_name": "Python 3",
   "language": "python",
   "name": "python3"
  },
  "language_info": {
   "codemirror_mode": {
    "name": "ipython",
    "version": 3
   },
   "file_extension": ".py",
   "mimetype": "text/x-python",
   "name": "python",
   "nbconvert_exporter": "python",
   "pygments_lexer": "ipython3",
   "version": "3.9.5"
  }
 },
 "nbformat": 4,
 "nbformat_minor": 2
}
