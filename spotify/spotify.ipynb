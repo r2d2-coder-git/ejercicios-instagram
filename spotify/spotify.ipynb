{
 "cells": [
  {
   "cell_type": "markdown",
   "metadata": {},
   "source": [
    "### **HAZ UN GRÁFICO DE BARRAS CON**\n",
    "### **LOS 5 ARTISTAS MÁS ESCUCHADOS** "
   ]
  },
  {
   "cell_type": "code",
   "execution_count": null,
   "metadata": {},
   "outputs": [],
   "source": [
    "import pandas as  pd \n",
    "import seaborn as sns\n",
    "\n",
    "df = pd.read_csv('spotify.csv')"
   ]
  },
  {
   "cell_type": "code",
   "execution_count": null,
   "metadata": {},
   "outputs": [],
   "source": [
    "sum_visitas_artistas = df.groupby(by='artist(s)_name', as_index=False)['streams'].sum()\n",
    "top_5 = sum_visitas_artistas.sort_values(by='streams', ascending=False).head(5)\n",
    "\n",
    "sns.barplot(data=top_5, x='artist(s)_name', y='streams', palette='viridis')"
   ]
  }
 ],
 "metadata": {
  "kernelspec": {
   "display_name": "Python 3",
   "language": "python",
   "name": "python3"
  },
  "language_info": {
   "codemirror_mode": {
    "name": "ipython",
    "version": 3
   },
   "file_extension": ".py",
   "mimetype": "text/x-python",
   "name": "python",
   "nbconvert_exporter": "python",
   "pygments_lexer": "ipython3",
   "version": "3.9.5"
  }
 },
 "nbformat": 4,
 "nbformat_minor": 2
}
