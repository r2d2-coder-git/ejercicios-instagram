{
 "cells": [
  {
   "cell_type": "markdown",
   "metadata": {},
   "source": [
    "### ¿CUÁL HA SIDO LA REVIEW\n",
    "### DE AMAZON MÁS ÚTIL?"
   ]
  },
  {
   "cell_type": "code",
   "execution_count": null,
   "metadata": {},
   "outputs": [],
   "source": [
    "import pandas as pd\n",
    "\n",
    "df = pd.read_csv('./amazon_reviews.csv')\n",
    "\n",
    "review_mas_util = df.loc[[df['Helpful_Votes'].idxmax()]]\n",
    "\n",
    "review_mas_util"
   ]
  },
  {
   "cell_type": "markdown",
   "metadata": {},
   "source": [
    "### ¿QUÉ PORCENTAJE DE REVIEWS\n",
    "### SON POSITIVAS Y NEGATIVAS?"
   ]
  },
  {
   "cell_type": "code",
   "execution_count": null,
   "metadata": {},
   "outputs": [],
   "source": [
    "%pip install textblob"
   ]
  },
  {
   "cell_type": "code",
   "execution_count": 1,
   "metadata": {},
   "outputs": [
    {
     "data": {
      "text/plain": [
       "Sentiment\n",
       "positivo    72.297186\n",
       "neutral     21.745927\n",
       "negativo     5.956887\n",
       "Name: proportion, dtype: float64"
      ]
     },
     "execution_count": 1,
     "metadata": {},
     "output_type": "execute_result"
    }
   ],
   "source": [
    "import pandas as pd\n",
    "from textblob import TextBlob\n",
    "\n",
    "df = pd.read_csv(\"amazon_reviews_small.csv\")\n",
    "\n",
    "def clasificar_sentimiento(review: str) -> str:\n",
    "    sentimiento = TextBlob(review).sentiment.polarity\n",
    "\n",
    "    if sentimiento > 0.1:\n",
    "        return 'positivo'\n",
    "    elif sentimiento < -0.1:\n",
    "        return 'negativo'\n",
    "    else:\n",
    "        return 'neutral'\n",
    "\n",
    "df['Sentiment'] = df['Review_Content'].astype(str) \\\n",
    "                            .apply(clasificar_sentimiento)\n",
    "\n",
    "df['Sentiment'].value_counts(normalize=True) * 100 \n"
   ]
  }
 ],
 "metadata": {
  "kernelspec": {
   "display_name": "Python 3",
   "language": "python",
   "name": "python3"
  },
  "language_info": {
   "codemirror_mode": {
    "name": "ipython",
    "version": 3
   },
   "file_extension": ".py",
   "mimetype": "text/x-python",
   "name": "python",
   "nbconvert_exporter": "python",
   "pygments_lexer": "ipython3",
   "version": "3.9.5"
  }
 },
 "nbformat": 4,
 "nbformat_minor": 2
}
