{
 "cells": [
  {
   "cell_type": "markdown",
   "metadata": {},
   "source": [
    "### ¿CUÁL HA SIDO LA REVIEW\n",
    "### DE AMAZON MÁS ÚTIL?"
   ]
  },
  {
   "cell_type": "code",
   "execution_count": null,
   "metadata": {},
   "outputs": [],
   "source": [
    "import pandas as pd\n",
    "\n",
    "df = pd.read_csv('./amazon_reviews.csv')\n",
    "\n",
    "review_mas_util = df.loc[[df['Helpful_Votes'].idxmax()]]\n",
    "\n",
    "review_mas_util"
   ]
  },
  {
   "cell_type": "markdown",
   "metadata": {
    "vscode": {
     "languageId": "raw"
    }
   },
   "source": [
    "### ¿EXISTE RELACIÓN ENTRE LA LONGITUD\n",
    "### DE LA REVIEW Y SUS VOTOS ÚTILES?\n"
   ]
  },
  {
   "cell_type": "code",
   "execution_count": null,
   "metadata": {},
   "outputs": [],
   "source": [
    "import pandas as pd\n",
    "import matplotlib.pyplot as plt\n",
    "import seaborn as sns\n",
    "\n",
    "df = pd.read_csv(\"amazon_reviews_small.csv\")\n",
    "\n",
    "# Calcular la longitud de cada review\n",
    "df['Review_Length'] = df['Review_Content'].astype(str).str.len()\n",
    "\n",
    "# Crear un scatter plot\n",
    "plt.figure(figsize=(10, 6))\n",
    "sns.scatterplot(data=df, x='Review_Length', y='Helpful_Votes', alpha=0.5)\n",
    "plt.title('Relación entre Longitud de Review y Votos Útiles')\n",
    "plt.xlabel('Longitud de la Review')\n",
    "plt.ylabel('Votos Útiles')\n",
    "\n",
    "# Calcular y mostrar la correlación\n",
    "correlation = df['Review_Length'].corr(df['Helpful_Votes'])\n",
    "print(f\"\\nCorrelación entre longitud y votos útiles: {correlation:.2f}\")\n",
    "\n",
    "# Mostrar estadísticas básicas\n",
    "print(\"\\nEstadísticas de longitud de reviews:\")\n",
    "print(df['Review_Length'].describe())\n"
   ]
  },
  {
   "cell_type": "markdown",
   "metadata": {},
   "source": [
    "### ¿QUÉ PORCENTAJE DE REVIEWS\n",
    "### SON POSITIVAS Y NEGATIVAS?"
   ]
  },
  {
   "cell_type": "code",
   "execution_count": null,
   "metadata": {},
   "outputs": [],
   "source": [
    "%pip install textblob"
   ]
  },
  {
   "cell_type": "code",
   "execution_count": null,
   "metadata": {},
   "outputs": [],
   "source": [
    "import pandas as pd\n",
    "from textblob import TextBlob\n",
    "\n",
    "df = pd.read_csv(\"amazon_reviews_small.csv\")\n",
    "\n",
    "def clasificar_sentimiento(review: str) -> str:\n",
    "    sentimiento = TextBlob(review).sentiment.polarity\n",
    "\n",
    "    if sentimiento > 0.1:\n",
    "        return 'positivo'\n",
    "    elif sentimiento < -0.1:\n",
    "        return 'negativo'\n",
    "    else:\n",
    "        return 'neutral'\n",
    "\n",
    "df['Sentiment'] = df['Review_Content'].astype(str) \\\n",
    "                            .apply(clasificar_sentimiento)\n",
    "\n",
    "df['Sentiment'].value_counts(normalize=True) * 100 \n"
   ]
  },
  {
   "cell_type": "markdown",
   "metadata": {
    "vscode": {
     "languageId": "raw"
    }
   },
   "source": [
    "### ¿CUÁL ES LA CALIFICACIÓN\n",
    "### MÁS COMÚN EN LAS REVIEWS?\n"
   ]
  },
  {
   "cell_type": "code",
   "execution_count": 5,
   "metadata": {},
   "outputs": [
    {
     "name": "stdout",
     "output_type": "stream",
     "text": [
      "Distribución de calificaciones (%):\n",
      "2.8 out of 5 stars estrellas: 0.04%\n",
      "2.9 out of 5 stars estrellas: 0.01%\n",
      "3.3 out of 5 stars estrellas: 0.01%\n",
      "3.4 out of 5 stars estrellas: 0.25%\n",
      "3.5 out of 5 stars estrellas: 0.07%\n",
      "3.6 out of 5 stars estrellas: 0.14%\n",
      "3.7 out of 5 stars estrellas: 0.98%\n",
      "3.8 out of 5 stars estrellas: 1.38%\n",
      "3.9 out of 5 stars estrellas: 5.41%\n",
      "4.0 out of 5 stars estrellas: 6.89%\n",
      "4.1 out of 5 stars estrellas: 6.12%\n",
      "4.2 out of 5 stars estrellas: 10.67%\n",
      "4.3 out of 5 stars estrellas: 11.99%\n",
      "4.4 out of 5 stars estrellas: 9.02%\n",
      "4.5 out of 5 stars estrellas: 5.47%\n",
      "4.6 out of 5 stars estrellas: 1.92%\n",
      "4.7 out of 5 stars estrellas: 0.6%\n",
      "4.8 out of 5 stars estrellas: 0.11%\n",
      "4.9 out of 5 stars estrellas: 0.05%\n",
      "5.0 out of 5 stars estrellas: 0.08%\n"
     ]
    }
   ],
   "source": [
    "import pandas as pd\n",
    "\n",
    "df = pd.read_csv(\"amazon_reviews_small.csv\")\n",
    "\n",
    "# Contar y mostrar el porcentaje de cada calificación\n",
    "rating_distribution = df['Rating'].value_counts().sort_index()\n",
    "rating_percentages = (rating_distribution / len(df) * 100).round(2)\n",
    "\n",
    "print(\"Distribución de calificaciones (%):\")\n",
    "for rating, percentage in rating_percentages.items():\n",
    "    print(f\"{rating} estrellas: {percentage}%\")\n"
   ]
  }
 ],
 "metadata": {
  "kernelspec": {
   "display_name": "Python 3",
   "language": "python",
   "name": "python3"
  },
  "language_info": {
   "codemirror_mode": {
    "name": "ipython",
    "version": 3
   },
   "file_extension": ".py",
   "mimetype": "text/x-python",
   "name": "python",
   "nbconvert_exporter": "python",
   "pygments_lexer": "ipython3",
   "version": "3.9.5"
  }
 },
 "nbformat": 4,
 "nbformat_minor": 2
}
