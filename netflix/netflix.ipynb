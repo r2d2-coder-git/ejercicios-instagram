{
 "cells": [
  {
   "cell_type": "markdown",
   "metadata": {},
   "source": [
    "### **¿EN QUÉ AÑO**\n",
    "### **SE SUBIERON MÁS**\n",
    "### **PELICULAS A NETFLIX?**"
   ]
  },
  {
   "cell_type": "code",
   "execution_count": 1,
   "metadata": {},
   "outputs": [
    {
     "name": "stdout",
     "output_type": "stream",
     "text": [
      "2017\n",
      "767\n"
     ]
    }
   ],
   "source": [
    "import pandas as pd\n",
    "\n",
    "df = pd.read_csv('./netflix_titles.csv')\n",
    "\n",
    "df_movies = df.loc[df['type'] == 'Movie']\n",
    "\n",
    "conteo_peliculas = df_movies['release_year'].value_counts()\n",
    "\n",
    "print(conteo_peliculas.idxmax())\n",
    "print(conteo_peliculas.max())"
   ]
  }
 ],
 "metadata": {
  "kernelspec": {
   "display_name": "Python 3",
   "language": "python",
   "name": "python3"
  },
  "language_info": {
   "codemirror_mode": {
    "name": "ipython",
    "version": 3
   },
   "file_extension": ".py",
   "mimetype": "text/x-python",
   "name": "python",
   "nbconvert_exporter": "python",
   "pygments_lexer": "ipython3",
   "version": "3.9.5"
  }
 },
 "nbformat": 4,
 "nbformat_minor": 2
}
