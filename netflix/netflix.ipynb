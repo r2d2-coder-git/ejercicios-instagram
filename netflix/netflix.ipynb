{
 "cells": [
  {
   "cell_type": "markdown",
   "metadata": {},
   "source": [
    "### **¿EN QUÉ AÑO**\n",
    "### **SE SUBIERON MÁS**\n",
    "### **PELICULAS A NETFLIX?**"
   ]
  },
  {
   "cell_type": "code",
   "execution_count": null,
   "metadata": {},
   "outputs": [],
   "source": [
    "import pandas as pd\n",
    "\n",
    "df = pd.read_csv('./netflix_titles.csv')\n",
    "\n",
    "df_movies = df.loc[df['type'] == 'Movie']\n",
    "\n",
    "conteo_peliculas = df_movies['release_year'].value_counts()\n",
    "\n",
    "print(conteo_peliculas.idxmax())\n",
    "print(conteo_peliculas.max())"
   ]
  },
  {
   "cell_type": "markdown",
   "metadata": {},
   "source": [
    "### **¿EN QUÉ PAÍS**\n",
    "### **SE HAN SUBIDO MÁS**\n",
    "### **SERIES NETFLIX?**"
   ]
  },
  {
   "cell_type": "code",
   "execution_count": null,
   "metadata": {},
   "outputs": [],
   "source": [
    "import pandas as pd\n",
    "\n",
    "df = pd.read_csv('./netflix_titles.csv')\n",
    "\n",
    "df_series = df.loc[df['type'] == 'TV Show']\n",
    "\n",
    "top_paises = df_series['country'].value_counts().head(3)\n",
    "\n",
    "top_paises"
   ]
  },
  {
   "cell_type": "markdown",
   "metadata": {},
   "source": [
    "### **¿CUÁL ES LA DURACIÓN MEDIA**\n",
    "### **DE LAS PELÍCULAS POR DÉCADA**\n",
    "### **EN NETFLIX?**"
   ]
  },
  {
   "cell_type": "code",
   "execution_count": null,
   "metadata": {},
   "outputs": [],
   "source": [
    "import pandas as pd\n",
    "\n",
    "df = pd.read_csv('./netflix_titles.csv')"
   ]
  },
  {
   "cell_type": "code",
   "execution_count": null,
   "metadata": {},
   "outputs": [],
   "source": [
    "\n",
    "df_movies = df[df['type'] == 'Movie'].copy()\n",
    "df_movies['duration'] = df_movies['duration'].str.replace(' min', '').astype(float)\n",
    "df_movies['decade'] = (df_movies['release_year'] // 10) * 10\n",
    "duracion_por_decada = df_movies.groupby('decade')['duration'].mean().round(2)\n",
    "\n",
    "print(\"Duración media de películas por década (en minutos):\")\n",
    "print(duracion_por_decada.sort_index())"
   ]
  }
 ],
 "metadata": {
  "kernelspec": {
   "display_name": "Python 3",
   "language": "python",
   "name": "python3"
  },
  "language_info": {
   "codemirror_mode": {
    "name": "ipython",
    "version": 3
   },
   "file_extension": ".py",
   "mimetype": "text/x-python",
   "name": "python",
   "nbconvert_exporter": "python",
   "pygments_lexer": "ipython3",
   "version": "3.9.5"
  }
 },
 "nbformat": 4,
 "nbformat_minor": 2
}
